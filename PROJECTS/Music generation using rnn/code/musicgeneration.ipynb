{
  "cells": [
    {
      "cell_type": "code",
      "execution_count": null,
      "metadata": {
        "colab": {
          "base_uri": "https://localhost:8080/"
        },
        "id": "s-gBKp0vsF1-",
        "outputId": "51f5e892-df47-4984-cf59-42e9e878b987"
      },
      "outputs": [
        {
          "name": "stdout",
          "output_type": "stream",
          "text": [
            "Requirement already satisfied: mido in /usr/local/lib/python3.10/dist-packages (1.3.2)\n",
            "Requirement already satisfied: packaging~=23.1 in /usr/local/lib/python3.10/dist-packages (from mido) (23.2)\n"
          ]
        }
      ],
      "source": [
        "!pip install mido"
      ]
    },
    {
      "cell_type": "code",
      "execution_count": null,
      "metadata": {
        "id": "VtHlYqMVsHPR"
      },
      "outputs": [],
      "source": [
        "import tensorflow as tf\n",
        "import numpy as np\n",
        "from mido import MidiFile, MidiTrack, Message\n",
        "import os"
      ]
    },
    {
      "cell_type": "code",
      "execution_count": null,
      "metadata": {
        "colab": {
          "base_uri": "https://localhost:8080/"
        },
        "id": "P5Flnt12sKMh",
        "outputId": "df3bac4f-05d3-41e6-9e9f-e40abe05f134"
      },
      "outputs": [
        {
          "name": "stdout",
          "output_type": "stream",
          "text": [
            "Drive already mounted at /content/drive; to attempt to forcibly remount, call drive.mount(\"/content/drive\", force_remount=True).\n"
          ]
        }
      ],
      "source": [
        "from google.colab import drive\n",
        "drive.mount('/content/drive')"
      ]
    },
    {
      "cell_type": "code",
      "execution_count": null,
      "metadata": {
        "id": "aqaqCEXXsOgR"
      },
      "outputs": [],
      "source": [
        "midi_files = []\n",
        "midi_directory = '/content/drive/MyDrive/MIDI FILES'  # Replace with your directory path\n",
        "for filename in os.listdir(midi_directory):\n",
        "    if filename.endswith('.mid'):\n",
        "        midi_file = MidiFile(os.path.join(midi_directory, filename))\n",
        "        midi_files.append(midi_file)"
      ]
    },
    {
      "cell_type": "code",
      "execution_count": null,
      "metadata": {
        "id": "EbfXXKFIsV6X"
      },
      "outputs": [],
      "source": [
        "all_notes = []\n",
        "for midi_file in midi_files:\n",
        "    notes = []\n",
        "    for msg in midi_file:\n",
        "        if msg.type == 'note_on':\n",
        "            notes.append([msg.note, msg.velocity, msg.time])\n",
        "    all_notes.extend(notes)"
      ]
    },
    {
      "cell_type": "code",
      "execution_count": null,
      "metadata": {
        "id": "GjoJtMZIsaix"
      },
      "outputs": [],
      "source": [
        "notes = np.array(all_notes)"
      ]
    },
    {
      "cell_type": "code",
      "execution_count": null,
      "metadata": {
        "id": "1Kd4Xakzstf1"
      },
      "outputs": [],
      "source": [
        "# **3. Create TensorFlow Dataset:**\n",
        "dataset = tf.data.Dataset.from_tensor_slices(notes)\n",
        "dataset = dataset.batch(1).map(lambda x: tf.expand_dims(x, axis=-1))"
      ]
    },
    {
      "cell_type": "code",
      "execution_count": null,
      "metadata": {
        "id": "ceXyIMq1swM0"
      },
      "outputs": [],
      "source": [
        "# **4. Define Feature Extraction Function:**\n",
        "def extract_features(notes):\n",
        "    # Extract pitch, velocity, and time features\n",
        "    return notes[:, :3], notes[:, 0]"
      ]
    },
    {
      "cell_type": "code",
      "execution_count": null,
      "metadata": {
        "id": "y4dLAIjosyhk"
      },
      "outputs": [],
      "source": [
        "dataset = dataset.map(extract_features)"
      ]
    },
    {
      "cell_type": "code",
      "execution_count": null,
      "metadata": {
        "id": "QbxHcaios1Gs"
      },
      "outputs": [],
      "source": [
        "# **5. Define RNN Model:**\n",
        "model = tf.keras.Sequential([\n",
        "    tf.keras.layers.LSTM(128, return_sequences=True),\n",
        "    tf.keras.layers.Dense(128),\n",
        "    tf.keras.layers.Dense(3)  # Output layer for pitch, velocity, and duration\n",
        "])"
      ]
    },
    {
      "cell_type": "code",
      "execution_count": null,
      "metadata": {
        "id": "B7oI02Y3s3g8"
      },
      "outputs": [],
      "source": [
        "# **6. Compile the Model:**\n",
        "model.compile(optimizer='adam', loss='mse')"
      ]
    },
    {
      "cell_type": "code",
      "execution_count": null,
      "metadata": {
        "colab": {
          "background_save": true,
          "base_uri": "https://localhost:8080/"
        },
        "id": "dxJsAbF2s5zk",
        "outputId": "11697057-6b36-45b6-a636-da5edae88643"
      },
      "outputs": [
        {
          "name": "stdout",
          "output_type": "stream",
          "text": [
            "Epoch 1/30\n",
            "156445/156445 [==============================] - 815s 5ms/step - loss: 2.8279\n",
            "Epoch 2/30\n",
            "156445/156445 [==============================] - 783s 5ms/step - loss: 0.3614\n",
            "Epoch 3/30\n",
            "156445/156445 [==============================] - 773s 5ms/step - loss: 0.3060\n",
            "Epoch 4/30\n",
            "156445/156445 [==============================] - 777s 5ms/step - loss: 0.2166\n",
            "Epoch 5/30\n",
            "156445/156445 [==============================] - 758s 5ms/step - loss: 0.1846\n",
            "Epoch 6/30\n",
            "156445/156445 [==============================] - 767s 5ms/step - loss: 0.1633\n",
            "Epoch 7/30\n",
            "156445/156445 [==============================] - 757s 5ms/step - loss: 0.1449\n",
            "Epoch 8/30\n",
            "156445/156445 [==============================] - 758s 5ms/step - loss: 0.1284\n",
            "Epoch 9/30\n",
            "153716/156445 [============================>.] - ETA: 13s - loss: 0.1269"
          ]
        }
      ],
      "source": [
        "model.fit(dataset, epochs=30)"
      ]
    },
    {
      "cell_type": "code",
      "execution_count": null,
      "metadata": {
        "id": "Om9LEsAOs8_I"
      },
      "outputs": [],
      "source": [
        "# **Generate Music:**\n",
        "initial_state = tf.zeros((1, 128))\n",
        "\n",
        "generated_notes = []\n",
        "for _ in range(100):\n",
        "    prediction = model.predict(initial_state)\n",
        "\n",
        "    # Extract pitch, velocity, and duration predictions\n",
        "    predicted_pitch, predicted_velocity, predicted_duration = prediction[0]\n",
        "\n",
        "    # Clip pitch and convert to an integer in MIDI range (0-127)\n",
        "    clipped_pitch = np.clip(np.round(predicted_pitch), 0, 127).astype(int)\n",
        "\n",
        "    # Clip velocity and duration to reasonable ranges\n",
        "    clipped_velocity = np.clip(np.round(predicted_velocity), 0, 127).astype(int)\n",
        "    clipped_duration = np.clip(np.round(predicted_duration), 1, 500).astype(int)\n",
        "\n",
        "    # Combine clipped pitch, velocity, and duration into a list\n",
        "    generated_note = [clipped_pitch, clipped_velocity, clipped_duration]\n",
        "\n",
        "    generated_notes.append(generated_note)"
      ]
    },
    {
      "cell_type": "code",
      "execution_count": null,
      "metadata": {
        "id": "tLsS0ZMDuCM_"
      },
      "outputs": [],
      "source": [
        "# **Create and Save the MIDI File:**\n",
        "midi_output = MidiFile()\n",
        "track = MidiTrack()\n",
        "midi_output.tracks.append(track)\n",
        "\n",
        "for pitch, velocity, duration in generated_notes:\n",
        "    # Extract scalar values from NumPy arrays\n",
        "    pitch_scalar = int(np.mean(pitch))  # Taking the mean of the array\n",
        "    velocity_scalar = int(np.mean(velocity))  # Taking the mean of the array"
      ]
    },
    {
      "cell_type": "code",
      "execution_count": null,
      "metadata": {
        "id": "Pjo7CsKStMzn"
      },
      "outputs": [],
      "source": [
        "# Create a \"note_on\" message to calculate its length before appending\n",
        "note_on_message = Message('note_on', note=pitch_scalar, velocity=velocity_scalar, time=0)"
      ]
    },
    {
      "cell_type": "code",
      "execution_count": null,
      "metadata": {
        "id": "yiXTWbx3taRe"
      },
      "outputs": [],
      "source": [
        "# Append the message to the track and get its length\n",
        "track.append(note_on_message)\n",
        "time = track[len(track) - 1].time  # Use the track length after adding the message"
      ]
    },
    {
      "cell_type": "code",
      "execution_count": null,
      "metadata": {
        "id": "WT9xZHcYtbu6"
      },
      "outputs": [],
      "source": [
        " # Create and append \"note_off\" message with correct timing\n",
        "track.append(Message('note_off', note=pitch_scalar, velocity=0, time=time + duration))"
      ]
    },
    {
      "cell_type": "code",
      "execution_count": null,
      "metadata": {
        "id": "zio34vXntejt"
      },
      "outputs": [],
      "source": [
        "# Save the generated MIDI file\n",
        "midi_output.save('generated_music.mid')"
      ]
    }
  ],
  "metadata": {
    "colab": {
      "provenance": []
    },
    "kernelspec": {
      "display_name": "Python 3",
      "name": "python3"
    },
    "language_info": {
      "name": "python"
    }
  },
  "nbformat": 4,
  "nbformat_minor": 0
}